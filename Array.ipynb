{
  "nbformat": 4,
  "nbformat_minor": 0,
  "metadata": {
    "colab": {
      "provenance": []
    },
    "kernelspec": {
      "name": "python3",
      "display_name": "Python 3"
    },
    "language_info": {
      "name": "python"
    }
  },
  "cells": [
    {
      "cell_type": "markdown",
      "source": [
        "1.You are given with an array of numbers, Your task is to print the difference of indices of largest and smallest number.All number are unique.\n",
        "\n",
        "Input Description:\n",
        "First line contains a number ‘n’. Then next line contains n space separated numbers.\n",
        "\n",
        "Output Description:\n",
        "Print the difference of indices of largest and smallest array\n",
        "\n",
        "Sample Input :\n",
        "5\n",
        "1 6 4 0 3\n",
        "Sample Output :\n",
        "-2"
      ],
      "metadata": {
        "id": "5gkTLqHB1IbZ"
      }
    },
    {
      "cell_type": "code",
      "execution_count": null,
      "metadata": {
        "id": "jJE-MVpU0-YX"
      },
      "outputs": [],
      "source": [
        "n=int(input())\n",
        "arr = [int(x) for x in input().split()]\n",
        "if len(arr)==n:\n",
        "  a=(arr.index(min(arr)))\n",
        "  b=(arr.index(max(arr)))\n",
        "print(b-a)"
      ]
    },
    {
      "cell_type": "markdown",
      "source": [
        "2.you are given with array of numbers.you have to find whether array is beautiful or not. A beautiful array is an array whose sum of all numbers is divisible by 2, 3 and 5\n",
        "\n",
        "Input Description:\n",
        "You are given a number ‘n’ denoting the size of array.Next line contains n space separated numbers.\n",
        "\n",
        "Output Description:\n",
        "Print 1 if array is beautiful and 0 if it is not\n",
        "\n",
        "Sample Input :\n",
        "5\n",
        "5 25 35 -5 30\n",
        "Sample Output :\n",
        "1"
      ],
      "metadata": {
        "id": "CU047fuR1HRB"
      }
    },
    {
      "cell_type": "code",
      "source": [
        "n=int(input())\n",
        "a = input().split()\n",
        "sum=0\n",
        "if len(a)==n:\n",
        "  for i in a:\n",
        "    sum = sum + int(i)\n",
        "#print(sum)\n",
        "if sum%2==0 and sum%3==0 and sum%5==0:\n",
        "  print('1')\n",
        "else:\n",
        "  print('0')"
      ],
      "metadata": {
        "id": "noQz0HaK1UMw"
      },
      "execution_count": null,
      "outputs": []
    },
    {
      "cell_type": "markdown",
      "source": [
        "3. Given a string S, print it without using semicolon in your program.\n",
        "Sample Testcase :\n",
        "INPUT\n",
        "hello world\n",
        "OUTPUT\n",
        "hello world"
      ],
      "metadata": {
        "id": "aFpGymLv1W4S"
      }
    },
    {
      "cell_type": "code",
      "source": [
        "x=str(input())\n",
        "print(x)\n"
      ],
      "metadata": {
        "id": "oRmqkmly1bDo"
      },
      "execution_count": null,
      "outputs": []
    },
    {
      "cell_type": "markdown",
      "source": [
        "4. Given a number N, print the odd digits in the number(space seperated) or print -1 if there is no odd digit in the given number.\n",
        "Input Size : N <= 100000\n",
        "Sample Testcase :\n",
        "INPUT\n",
        "2143\n",
        "OUTPUT\n",
        "1 3"
      ],
      "metadata": {
        "id": "qjUGPjZa16ho"
      }
    },
    {
      "cell_type": "code",
      "source": [
        "num=input()\n",
        "oddlst = []\n",
        "evenlst=[]\n",
        "for i in num:\n",
        "  if ((int(i)%2)==0):\n",
        "    evenlst.append(i)\n",
        "  else:\n",
        "    oddlst.append(i)\n",
        "if len(oddlst)==0:\n",
        "  print(-1)\n",
        "oddlst.sort()\n",
        "print(*oddlst)"
      ],
      "metadata": {
        "id": "owjgj8ki1iYR"
      },
      "execution_count": null,
      "outputs": []
    },
    {
      "cell_type": "markdown",
      "source": [
        "5. Ria is a 5 year old girl. Her mother wants to teach her how to sort words in the same order that they appear in a dictionary. She decides to write a program to sort a given set of strings based on their alphabetical order. Help Ria’s mother to complete the program.\n",
        "\n",
        " \n",
        "\n",
        "Input Description:\n",
        "A set of N strings\n",
        "\n",
        "Output Description:\n",
        "Alphabetically sorted set of strings\n",
        "\n",
        "Sample Input :\n",
        "3\n",
        "InfinityWar EndGame Avengers\n",
        "Sample Output :\n",
        "Avengers EndGame InfinityWar"
      ],
      "metadata": {
        "id": "QnOQpgMx1rPh"
      }
    },
    {
      "cell_type": "code",
      "source": [
        "b = int(input())\n",
        "a = list(map(str,input().split()))\n",
        "a.sort()\n",
        "print(\" \".join(a))"
      ],
      "metadata": {
        "id": "0MfosHqp11fp"
      },
      "execution_count": null,
      "outputs": []
    },
    {
      "cell_type": "markdown",
      "source": [
        "6. Given 2 numbers N and K followed by elements of N .Print 'yes' if K exists else print 'no'.\n",
        "Sample Testcase :\n",
        "INPUT\n",
        "4 2\n",
        "1 2 3 3\n",
        "OUTPUT\n",
        "yes"
      ],
      "metadata": {
        "id": "OPS3PWbq2CDo"
      }
    },
    {
      "cell_type": "code",
      "source": [
        "c,d =input().split()\n",
        "n,k = list(map(int,(c,d)))\n",
        "s=input().split()\n",
        "e=list(map(int,s))\n",
        "if k in e:\n",
        "  print(\"yes\")\n",
        "else:\n",
        "  print(\"no\")"
      ],
      "metadata": {
        "id": "eFIlGRWH1sLQ"
      },
      "execution_count": null,
      "outputs": []
    },
    {
      "cell_type": "markdown",
      "source": [
        "7. In a world cup tournament,no of goals scored by each team is given to you. Your task is to calculate net goal rate of each team.\n",
        "\n",
        "Net goal rate of team is calculated\n",
        "\n",
        " \n",
        "\n",
        "No of goals(team)- sum of(no of goals by last 3 teams)\n",
        "\n",
        "Input Description:\n",
        "You are given a number ‘n’.Next line contains n space separated numbers.\n",
        "\n",
        "Output Description:\n",
        "Print the net goal rate of each team\n",
        "\n",
        "Sample Input :\n",
        "5\n",
        "95 85 75 12 11\n",
        "Sample Output :\n",
        "-3 -13 -23 -86 -87"
      ],
      "metadata": {
        "id": "-V1dl6832GeI"
      }
    },
    {
      "cell_type": "code",
      "source": [
        "num = int(input())\n",
        "goals_each_team = [int(i) for i in input().split()]\n",
        "l=[]\n",
        "for i in goals_each_team:\n",
        "    res = i - (goals_each_team[-1]+goals_each_team[-2]+goals_each_team[-3])\n",
        "    l.append(res)\n",
        "print(*l)"
      ],
      "metadata": {
        "id": "ecXk8m102LI4"
      },
      "execution_count": null,
      "outputs": []
    },
    {
      "cell_type": "markdown",
      "source": [
        "8.You are given given task is to print whether array is ‘majestic’ or not.A ‘majsetic’ array is an array whose sum of first three number is equal to last three number.\n",
        "\n",
        "Input Description:\n",
        "You are given a number ‘n’,Next line contains ‘n’ space separated\n",
        "\n",
        "Output Description:\n",
        "Print 1 if array is majestic and 0 if it is not\n",
        "\n",
        "Sample Input :\n",
        "7\n",
        "1 2 3 4 6 0 0\n",
        "Sample Output :\n",
        "1"
      ],
      "metadata": {
        "id": "81K9aYaX2WT4"
      }
    },
    {
      "cell_type": "code",
      "source": [
        "N=int(input())\n",
        "l=list(map(int,input().split()))\n",
        "if(l[0]+l[1]+l[2] == l[-3]+l[-2]+l[-1]):\n",
        "\tprint(\"1\")\n",
        "else:\n",
        "\tprint(\"0\")"
      ],
      "metadata": {
        "id": "aFqCVUIs2bsX"
      },
      "execution_count": null,
      "outputs": []
    },
    {
      "cell_type": "markdown",
      "source": [
        "9.Given a string S, print 2 strings such that first string containing all characters in odd position(s) and other containing all characters in even position(s).\n",
        "Sample Testcase :\n",
        "INPUT\n",
        "XCODE\n",
        "OUTPUT\n",
        "XOE CD"
      ],
      "metadata": {
        "id": "0X8t8YnZ2e6_"
      }
    },
    {
      "cell_type": "code",
      "source": [
        "v=input()\n",
        "o=[]\n",
        "e=[]\n",
        "for i in  range(len(v)):\n",
        "    if(i%2==0):\n",
        "        e.append(v[i])\n",
        "    else:\n",
        "        o.append(v[i])\n",
        "e=\"\".join(e)\n",
        "o=\"\".join(o)\n",
        "print(e,o)"
      ],
      "metadata": {
        "id": "q4NJUBVs2j5_"
      },
      "execution_count": null,
      "outputs": []
    },
    {
      "cell_type": "markdown",
      "source": [
        "10. Pk finds it difficult to judge the minimum element in the list of elements given to him. Your task is to develop the algorithm in order to find the minimum element.\n",
        "\n",
        " \n",
        "\n",
        "Note:Don’t use sorting\n",
        " \n",
        "\n",
        "Input Description:\n",
        "You are given ‘n’ number of elements. Next line contains n space separated numbers.\n",
        "\n",
        "Output Description:\n",
        "Print the minimum element\n",
        "\n",
        "Sample Input :\n",
        "5\n",
        "3 4 9 1 6\n",
        "Sample Output :\n",
        "1"
      ],
      "metadata": {
        "id": "Lhoc1HZ12moP"
      }
    },
    {
      "cell_type": "code",
      "source": [
        "n = int(input())\n",
        "series = [int(i) for i in input().split()]\n",
        "if len(series)==n:\n",
        "  print(min(series))"
      ],
      "metadata": {
        "id": "5eLDqgMO2q9P"
      },
      "execution_count": null,
      "outputs": []
    }
  ]
}